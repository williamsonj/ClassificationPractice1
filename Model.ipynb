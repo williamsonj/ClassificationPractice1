{
 "cells": [
  {
   "cell_type": "code",
   "execution_count": 1,
   "id": "d9693827-8019-4c01-9f56-8aeae36b516c",
   "metadata": {},
   "outputs": [],
   "source": [
    "import torch\n",
    "import torchvision\n",
    "from torchvision import datasets\n",
    "import torchvision.transforms as transforms\n",
    "import matplotlib.pyplot as plt\n",
    "import numpy as np\n",
    "import torch.nn as nn\n",
    "import torch.nn.functional as F\n",
    "import torch.utils.data as data\n",
    "import copy\n",
    "\n",
    "\n",
    "import torch\n",
    "import torch.nn as nn\n",
    "import torch.nn.functional as F\n",
    "import torch.optim as optim\n",
    "import torch.utils.data as data\n",
    "\n",
    "import torchvision.transforms as transforms\n",
    "import torchvision.datasets as datasets\n",
    "\n",
    "import matplotlib.pyplot as plt\n",
    "import numpy as np\n",
    "\n",
    "\n",
    "from tqdm import trange\n",
    "from tqdm import tqdm\n",
    "\n",
    "\n",
    "import copy\n",
    "import random\n",
    "import time"
   ]
  },
  {
   "cell_type": "code",
   "execution_count": 2,
   "id": "168f16da-7cd2-4123-8dbe-f9d23c18b119",
   "metadata": {},
   "outputs": [],
   "source": [
    "transform = transforms.Compose([transforms.ToTensor()])\n",
    "train_dataset = datasets.MNIST(root = './data', train = True, download = True, transform = transform)\n",
    "test_dataset = datasets.MNIST(root = './data', train = False, download = False, transform = transform)"
   ]
  },
  {
   "cell_type": "code",
   "execution_count": 3,
   "id": "fda4ed88-8425-45a3-9229-9c5bb676e361",
   "metadata": {},
   "outputs": [],
   "source": [
    "batch_size = 4\n",
    "trainloader = torch.utils.data.DataLoader(train_dataset, batch_size=batch_size,\n",
    "                                          shuffle=True, num_workers=2)\n",
    "testloader = torch.utils.data.DataLoader(test_dataset, batch_size=batch_size,\n",
    "                                         shuffle=False, num_workers=2)\n",
    "classes = ('0', '1', '2', '3', '4', '5', '6', '7', '8', '9',)"
   ]
  },
  {
   "cell_type": "code",
   "execution_count": 4,
   "id": "e0f3aa5f-eb02-4c96-8e32-321059594018",
   "metadata": {},
   "outputs": [
    {
     "data": {
      "image/png": "[encoded data removed]",
      "text/plain": [
       "<Figure size 640x480 with 1 Axes>"
      ]
     },
     "metadata": {},
     "output_type": "display_data"
    },
    {
     "name": "stdout",
     "output_type": "stream",
     "text": [
      "0     8     4     8    \n"
     ]
    }
   ],
   "source": [
    "def imshow(img):\n",
    "    npimg = img.numpy()\n",
    "    plt.imshow(np.transpose(npimg, (1,2,0)))\n",
    "    plt.show()\n",
    "\n",
    "dataiter = iter(trainloader)\n",
    "images, labels = next (dataiter)\n",
    "\n",
    "imshow(torchvision.utils.make_grid(images))\n",
    "print(' '.join(f'{classes[labels[j]]:5s}' for j in range(batch_size)))\n"
   ]
  },
  {
   "cell_type": "code",
   "execution_count": 5,
   "id": "96a83f68-b6d5-428d-8652-b24b1ae4de50",
   "metadata": {},
   "outputs": [
    {
     "name": "stdout",
     "output_type": "stream",
     "text": [
      "Mean: 0.13066047430038452\n",
      "STD: 0.30810779333114624\n"
     ]
    }
   ],
   "source": [
    "mean = train_dataset.data.float().mean() / 255\n",
    "std = train_dataset.data.float().std() / 255\n",
    "print(f'Mean: {mean}')\n",
    "print(f'STD: {std}')"
   ]
  },
  {
   "cell_type": "code",
   "execution_count": 6,
   "id": "41f246b8-3569-4af9-ac8c-14bbf207d092",
   "metadata": {},
   "outputs": [],
   "source": [
    "transform_train = transforms.Compose([\n",
    "    transforms.ToTensor(),\n",
    "    transforms.RandomRotation(5, fill=(0,)),\n",
    "    transforms.RandomCrop(28, padding =2),\n",
    "    transforms.Normalize(mean=[mean], std=[std])\n",
    "])\n",
    "\n",
    "transform_test = transforms.Compose([\n",
    "    transforms.ToTensor(),\n",
    "    transforms.Normalize(mean=[mean], std=[std])\n",
    "])"
   ]
  },
  {
   "cell_type": "code",
   "execution_count": 7,
   "id": "a31d294e-5e67-424b-b9f5-0da1643cb4e4",
   "metadata": {},
   "outputs": [],
   "source": [
    "train_dataset = datasets.MNIST(root = './data', train = True, download = True, transform = transform_train)\n",
    "test_dataset = datasets.MNIST(root = './data', train = False, download = False, transform = transform_test)"
   ]
  },
  {
   "cell_type": "code",
   "execution_count": 8,
   "id": "4e586d46-6ad3-4d53-9960-b44609ea37a3",
   "metadata": {},
   "outputs": [
    {
     "name": "stdout",
     "output_type": "stream",
     "text": [
      "Number of training examples: 60000\n",
      "Number of testing examples: 10000\n"
     ]
    }
   ],
   "source": [
    "print(f'Number of training examples: {len(train_dataset)}')\n",
    "print(f'Number of testing examples: {len(test_dataset)}')"
   ]
  },
  {
   "cell_type": "code",
   "execution_count": 9,
   "id": "88a8a4da-ad6e-4d21-9c02-0c607e5ec240",
   "metadata": {},
   "outputs": [],
   "source": [
    "Validation = 0.9\n",
    "train_examples = int(len(train_dataset) * Validation)\n",
    "validation_examples = len(train_dataset) - train_examples"
   ]
  },
  {
   "cell_type": "code",
   "execution_count": 10,
   "id": "54aa5bd1-2ff8-4f52-b22b-21923db23d83",
   "metadata": {},
   "outputs": [],
   "source": [
    "train_dataset, validation_dataset = data.random_split(train_dataset, [train_examples, validation_examples])"
   ]
  },
  {
   "cell_type": "code",
   "execution_count": 11,
   "id": "a6c55ad6-82cd-4df2-a972-f5c1e4e03ebc",
   "metadata": {},
   "outputs": [
    {
     "name": "stdout",
     "output_type": "stream",
     "text": [
      "Number of training examples: 54000\n",
      "Number of validation examples: 6000\n",
      "Number of testing examples: 10000\n"
     ]
    }
   ],
   "source": [
    "print(f'Number of training examples: {len(train_dataset)}')\n",
    "print(f'Number of validation examples: {len(validation_dataset)}')\n",
    "print(f'Number of testing examples: {len(test_dataset)}')"
   ]
  },
  {
   "cell_type": "code",
   "execution_count": 12,
   "id": "f6a72189-131e-453f-830a-bc71fcadbd08",
   "metadata": {},
   "outputs": [],
   "source": [
    "validation_dataset = copy.deepcopy(validation_dataset)\n",
    "validation_dataset.dataset.transform = transform_test"
   ]
  },
  {
   "cell_type": "code",
   "execution_count": 13,
   "id": "672472fd-d6ca-451c-abc7-a96d2acba0fb",
   "metadata": {},
   "outputs": [],
   "source": [
    "BATCH_SIZE = 64\n",
    "\n",
    "train_iterator = data.DataLoader(train_dataset,\n",
    "                                 shuffle=True,\n",
    "                                 batch_size=BATCH_SIZE)\n",
    "\n",
    "valid_iterator = data.DataLoader(validation_dataset,\n",
    "                                 batch_size=BATCH_SIZE)\n",
    "\n",
    "test_iterator = data.DataLoader(test_dataset,\n",
    "                                batch_size=BATCH_SIZE)"
   ]
  },
  {
   "cell_type": "code",
   "execution_count": 14,
   "id": "d8f666e8-2f71-444f-9614-91e0844aee1a",
   "metadata": {},
   "outputs": [],
   "source": [
    "class Perceptron(nn.Module):\n",
    "    def __init__(self, input_dim, output_dim):\n",
    "        super().__init__()\n",
    "        self.input = nn.Linear(input_dim, 250)\n",
    "        self.hidden = nn.Linear(250,100)\n",
    "        self.output = nn.Linear(100, output_dim)\n",
    "    def forward(self, x):\n",
    "        batch_size = x.shape[0]\n",
    "        x = x.view(batch_size, -1)\n",
    "        h1 = F.relu(self.input(x))\n",
    "        h2 = F.relu(self.hidden(h1))\n",
    "        y_pred = self.output(h2)\n",
    "        return y_pred, h2"
   ]
  },
  {
   "cell_type": "code",
   "execution_count": 15,
   "id": "3724063b-e183-4e7a-be74-6dcb4f6a7dc7",
   "metadata": {},
   "outputs": [],
   "source": [
    "input_dim = 28*28\n",
    "output_dim = 10\n",
    "\n",
    "model = Perceptron(input_dim, output_dim)"
   ]
  },
  {
   "cell_type": "code",
   "execution_count": 16,
   "id": "aa604c3d-ba29-481d-8ab4-31a9917a4f0b",
   "metadata": {},
   "outputs": [],
   "source": [
    "optimizer = optim.Adam(model.parameters())\n",
    "criterion = nn.CrossEntropyLoss()\n",
    "device = torch.device('cude' if torch.cuda.is_available() else 'cpu')"
   ]
  },
  {
   "cell_type": "code",
   "execution_count": 17,
   "id": "91e9ce26-d702-4b7f-9310-df59ea5befee",
   "metadata": {},
   "outputs": [],
   "source": [
    "model = model.to(device)\n",
    "criterion = criterion.to(device)"
   ]
  },
  {
   "cell_type": "code",
   "execution_count": 18,
   "id": "4cd4d156-8f68-4132-bd9c-30e98929c88c",
   "metadata": {},
   "outputs": [],
   "source": [
    "def calculate_accuracy(y_pred, y):\n",
    "    top_pred = y_pred.argmax(1, keepdim=True)\n",
    "    correct = top_pred.eq(y.view_as(top_pred)).sum()\n",
    "    acc = correct.float() / y.shape[0]\n",
    "    return acc"
   ]
  },
  {
   "cell_type": "code",
   "execution_count": 19,
   "id": "092e2b88-c6f2-47d6-89c3-dd62958f7455",
   "metadata": {},
   "outputs": [],
   "source": [
    "def train (model, iterator, optimizer, criterion, device):\n",
    "    epochLoss = 0\n",
    "    epochAcc = 0\n",
    "    model.train()\n",
    "\n",
    "    for (x,y) in tqdm(iterator, desc = \"Training\", leave = False):\n",
    "        x = x.to(device)\n",
    "        y = y.to(device)\n",
    "        optimizer.zero_grad()\n",
    "\n",
    "        y_pred, _ = model(x)\n",
    "        loss = criterion(y_pred, y)\n",
    "        acc = calculate_accuracy(y_pred, y)\n",
    "        loss.backward()\n",
    "        optimizer.step()\n",
    "\n",
    "        epochLoss += loss.item()\n",
    "        epochAcc += acc.item()\n",
    "\n",
    "        return epochLoss/len(iterator), epochAcc / len(iterator)"
   ]
  },
  {
   "cell_type": "code",
   "execution_count": 20,
   "id": "62d27c4a-5e66-47ad-80b9-dcf827a2d060",
   "metadata": {},
   "outputs": [],
   "source": [
    "def evaluate (model, iterator, criterion, device):\n",
    "    epochLoss = 0\n",
    "    epochAcc = 0\n",
    "    model.eval()\n",
    "    with torch.no_grad():\n",
    "          for (x,y) in tqdm(iterator, desc = \"Evaluating\", leave = False):\n",
    "                x = x.to(device)\n",
    "                y = y.to(device)\n",
    "                y_pred, _ = model(x)\n",
    "                loss = criterion(y_pred, y)\n",
    "                acc = calculate_accuracy(y_pred, y)\n",
    "                epochLoss += loss.item()\n",
    "                epochAcc += acc.item()\n",
    "          return epochLoss/len(iterator), epochAcc / len(iterator)"
   ]
  },
  {
   "cell_type": "code",
   "execution_count": 21,
   "id": "28f4d269-b1d7-432f-89ef-b88335ecac06",
   "metadata": {},
   "outputs": [],
   "source": [
    "def epoch_time(start_time, end_time):\n",
    "    elapsed_time = end_time - start_time\n",
    "    elapsed_mins = int(elapsed_time / 60)\n",
    "    elapsed_secs = int(elapsed_time - (elapsed_mins * 60))\n",
    "    return elapsed_mins, elapsed_secs"
   ]
  },
  {
   "cell_type": "code",
   "execution_count": 22,
   "id": "f1acf026-2746-46a3-a1af-6ccdac9ed961",
   "metadata": {},
   "outputs": [
    {
     "name": "stderr",
     "output_type": "stream",
     "text": [
      "  0%|                                                                                           | 0/20 [00:00<?, ?it/s]\n",
      "Training:   0%|                                                                                | 0/844 [00:00<?, ?it/s]\u001b[A\n",
      "                                                                                                                       \u001b[A\n",
      "Evaluating:   0%|                                                                               | 0/94 [00:00<?, ?it/s]\u001b[A\n",
      "Evaluating:  23%|████████████████▏                                                    | 22/94 [00:00<00:00, 212.22it/s]\u001b[A\n",
      "Evaluating:  48%|█████████████████████████████████                                    | 45/94 [00:00<00:00, 218.28it/s]\u001b[A\n",
      "Evaluating:  71%|█████████████████████████████████████████████████▏                   | 67/94 [00:00<00:00, 218.79it/s]\u001b[A\n",
      "Evaluating:  95%|█████████████████████████████████████████████████████████████████▎   | 89/94 [00:00<00:00, 218.19it/s]\u001b[A\n",
      "  5%|████▏                                                                              | 1/20 [00:00<00:08,  2.13it/s]\u001b[A"
     ]
    },
    {
     "name": "stdout",
     "output_type": "stream",
     "text": [
      "Epoch: 01 | Epoch Time: 0m 0s\n",
      "\tTrain Loss: 0.003 | Train Acc: 0.01%\n",
      "\t Val. Loss: 2.268 |  Val. Acc: 22.52%\n"
     ]
    },
    {
     "name": "stderr",
     "output_type": "stream",
     "text": [
      "\n",
      "Training:   0%|                                                                                | 0/844 [00:00<?, ?it/s]\u001b[A\n",
      "                                                                                                                       \u001b[A\n",
      "Evaluating:   0%|                                                                               | 0/94 [00:00<?, ?it/s]\u001b[A\n",
      "Evaluating:  24%|████████████████▉                                                    | 23/94 [00:00<00:00, 224.04it/s]\u001b[A\n",
      "Evaluating:  49%|█████████████████████████████████▊                                   | 46/94 [00:00<00:00, 188.06it/s]\u001b[A\n",
      "Evaluating:  73%|██████████████████████████████████████████████████▋                  | 69/94 [00:00<00:00, 204.63it/s]\u001b[A\n",
      "Evaluating:  98%|███████████████████████████████████████████████████████████████████▌ | 92/94 [00:00<00:00, 211.88it/s]\u001b[A\n",
      " 10%|████████▎                                                                          | 2/20 [00:00<00:08,  2.10it/s]\u001b[A"
     ]
    },
    {
     "name": "stdout",
     "output_type": "stream",
     "text": [
      "Epoch: 02 | Epoch Time: 0m 0s\n",
      "\tTrain Loss: 0.003 | Train Acc: 0.03%\n",
      "\t Val. Loss: 2.230 |  Val. Acc: 26.55%\n"
     ]
    },
    {
     "name": "stderr",
     "output_type": "stream",
     "text": [
      "\n",
      "Training:   0%|                                                                                | 0/844 [00:00<?, ?it/s]\u001b[A\n",
      "                                                                                                                       \u001b[A\n",
      "Evaluating:   0%|                                                                               | 0/94 [00:00<?, ?it/s]\u001b[A\n",
      "Evaluating:  24%|████████████████▉                                                    | 23/94 [00:00<00:00, 227.30it/s]\u001b[A\n",
      "Evaluating:  49%|█████████████████████████████████▊                                   | 46/94 [00:00<00:00, 221.56it/s]\u001b[A\n",
      "Evaluating:  73%|██████████████████████████████████████████████████▋                  | 69/94 [00:00<00:00, 223.17it/s]\u001b[A\n",
      "Evaluating:  98%|███████████████████████████████████████████████████████████████████▌ | 92/94 [00:00<00:00, 194.61it/s]\u001b[A\n",
      " 15%|████████████▍                                                                      | 3/20 [00:01<00:08,  2.07it/s]\u001b[A"
     ]
    },
    {
     "name": "stdout",
     "output_type": "stream",
     "text": [
      "Epoch: 03 | Epoch Time: 0m 0s\n",
      "\tTrain Loss: 0.003 | Train Acc: 0.03%\n",
      "\t Val. Loss: 2.182 |  Val. Acc: 31.68%\n"
     ]
    },
    {
     "name": "stderr",
     "output_type": "stream",
     "text": [
      "\n",
      "Training:   0%|                                                                                | 0/844 [00:00<?, ?it/s]\u001b[A\n",
      "                                                                                                                       \u001b[A\n",
      "Evaluating:   0%|                                                                               | 0/94 [00:00<?, ?it/s]\u001b[A\n",
      "Evaluating:  24%|████████████████▉                                                    | 23/94 [00:00<00:00, 226.24it/s]\u001b[A\n",
      "Evaluating:  49%|█████████████████████████████████▊                                   | 46/94 [00:00<00:00, 219.21it/s]\u001b[A\n",
      "Evaluating:  72%|█████████████████████████████████████████████████▉                   | 68/94 [00:00<00:00, 217.97it/s]\u001b[A\n",
      "Evaluating:  96%|██████████████████████████████████████████████████████████████████   | 90/94 [00:00<00:00, 217.36it/s]\u001b[A\n",
      " 20%|████████████████▌                                                                  | 4/20 [00:01<00:07,  2.11it/s]\u001b[A"
     ]
    },
    {
     "name": "stdout",
     "output_type": "stream",
     "text": [
      "Epoch: 04 | Epoch Time: 0m 0s\n",
      "\tTrain Loss: 0.003 | Train Acc: 0.04%\n",
      "\t Val. Loss: 2.130 |  Val. Acc: 33.42%\n"
     ]
    },
    {
     "name": "stderr",
     "output_type": "stream",
     "text": [
      "\n",
      "Training:   0%|                                                                                | 0/844 [00:00<?, ?it/s]\u001b[A\n",
      "                                                                                                                       \u001b[A\n",
      "Evaluating:   0%|                                                                               | 0/94 [00:00<?, ?it/s]\u001b[A\n",
      "Evaluating:  24%|████████████████▉                                                    | 23/94 [00:00<00:00, 219.44it/s]\u001b[A\n",
      "Evaluating:  48%|█████████████████████████████████                                    | 45/94 [00:00<00:00, 181.93it/s]\u001b[A\n",
      "Evaluating:  72%|█████████████████████████████████████████████████▉                   | 68/94 [00:00<00:00, 198.87it/s]\u001b[A\n",
      "Evaluating:  97%|██████████████████████████████████████████████████████████████████▊  | 91/94 [00:00<00:00, 208.18it/s]\u001b[A\n",
      " 25%|████████████████████▊                                                              | 5/20 [00:02<00:07,  2.08it/s]\u001b[A"
     ]
    },
    {
     "name": "stdout",
     "output_type": "stream",
     "text": [
      "Epoch: 05 | Epoch Time: 0m 0s\n",
      "\tTrain Loss: 0.003 | Train Acc: 0.03%\n",
      "\t Val. Loss: 2.074 |  Val. Acc: 32.79%\n"
     ]
    },
    {
     "name": "stderr",
     "output_type": "stream",
     "text": [
      "\n",
      "Training:   0%|                                                                                | 0/844 [00:00<?, ?it/s]\u001b[A\n",
      "                                                                                                                       \u001b[A\n",
      "Evaluating:   0%|                                                                               | 0/94 [00:00<?, ?it/s]\u001b[A\n",
      "Evaluating:  24%|████████████████▉                                                    | 23/94 [00:00<00:00, 224.05it/s]\u001b[A\n",
      "Evaluating:  49%|█████████████████████████████████▊                                   | 46/94 [00:00<00:00, 223.89it/s]\u001b[A\n",
      "Evaluating:  73%|██████████████████████████████████████████████████▋                  | 69/94 [00:00<00:00, 209.76it/s]\u001b[A\n",
      "Evaluating:  98%|███████████████████████████████████████████████████████████████████▌ | 92/94 [00:00<00:00, 214.39it/s]\u001b[A\n",
      " 30%|████████████████████████▉                                                          | 6/20 [00:02<00:06,  2.10it/s]\u001b[A"
     ]
    },
    {
     "name": "stdout",
     "output_type": "stream",
     "text": [
      "Epoch: 06 | Epoch Time: 0m 0s\n",
      "\tTrain Loss: 0.003 | Train Acc: 0.03%\n",
      "\t Val. Loss: 2.017 |  Val. Acc: 35.71%\n"
     ]
    },
    {
     "name": "stderr",
     "output_type": "stream",
     "text": [
      "\n",
      "Training:   0%|                                                                                | 0/844 [00:00<?, ?it/s]\u001b[A\n",
      "                                                                                                                       \u001b[A\n",
      "Evaluating:   0%|                                                                               | 0/94 [00:00<?, ?it/s]\u001b[A\n",
      "Evaluating:  24%|████████████████▉                                                    | 23/94 [00:00<00:00, 221.89it/s]\u001b[A\n",
      "Evaluating:  49%|█████████████████████████████████▊                                   | 46/94 [00:00<00:00, 220.65it/s]\u001b[A\n",
      "Evaluating:  73%|██████████████████████████████████████████████████▋                  | 69/94 [00:00<00:00, 214.64it/s]\u001b[A\n",
      "Evaluating:  97%|██████████████████████████████████████████████████████████████████▊  | 91/94 [00:00<00:00, 211.80it/s]\u001b[A\n",
      " 35%|█████████████████████████████                                                      | 7/20 [00:03<00:06,  2.11it/s]\u001b[A"
     ]
    },
    {
     "name": "stdout",
     "output_type": "stream",
     "text": [
      "Epoch: 07 | Epoch Time: 0m 0s\n",
      "\tTrain Loss: 0.003 | Train Acc: 0.03%\n",
      "\t Val. Loss: 1.955 |  Val. Acc: 38.96%\n"
     ]
    },
    {
     "name": "stderr",
     "output_type": "stream",
     "text": [
      "\n",
      "Training:   0%|                                                                                | 0/844 [00:00<?, ?it/s]\u001b[A\n",
      "                                                                                                                       \u001b[A\n",
      "Evaluating:   0%|                                                                               | 0/94 [00:00<?, ?it/s]\u001b[A\n",
      "Evaluating:  23%|████████████████▏                                                    | 22/94 [00:00<00:00, 216.41it/s]\u001b[A\n",
      "Evaluating:  47%|████████████████████████████████▎                                    | 44/94 [00:00<00:00, 214.74it/s]\u001b[A\n",
      "Evaluating:  70%|████████████████████████████████████████████████▍                    | 66/94 [00:00<00:00, 213.60it/s]\u001b[A\n",
      "Evaluating:  95%|█████████████████████████████████████████████████████████████████▎   | 89/94 [00:00<00:00, 217.75it/s]\u001b[A\n",
      " 40%|█████████████████████████████████▏                                                 | 8/20 [00:03<00:05,  2.13it/s]\u001b[A"
     ]
    },
    {
     "name": "stdout",
     "output_type": "stream",
     "text": [
      "Epoch: 08 | Epoch Time: 0m 0s\n",
      "\tTrain Loss: 0.002 | Train Acc: 0.03%\n",
      "\t Val. Loss: 1.889 |  Val. Acc: 44.75%\n"
     ]
    },
    {
     "name": "stderr",
     "output_type": "stream",
     "text": [
      "\n",
      "Training:   0%|                                                                                | 0/844 [00:00<?, ?it/s]\u001b[A\n",
      "                                                                                                                       \u001b[A\n",
      "Evaluating:   0%|                                                                               | 0/94 [00:00<?, ?it/s]\u001b[A\n",
      "Evaluating:  24%|████████████████▉                                                    | 23/94 [00:00<00:00, 221.69it/s]\u001b[A\n",
      "Evaluating:  49%|█████████████████████████████████▊                                   | 46/94 [00:00<00:00, 221.78it/s]\u001b[A\n",
      "Evaluating:  73%|██████████████████████████████████████████████████▋                  | 69/94 [00:00<00:00, 211.15it/s]\u001b[A\n",
      "Evaluating:  98%|███████████████████████████████████████████████████████████████████▌ | 92/94 [00:00<00:00, 216.06it/s]\u001b[A\n",
      " 45%|█████████████████████████████████████▎                                             | 9/20 [00:04<00:05,  2.14it/s]\u001b[A"
     ]
    },
    {
     "name": "stdout",
     "output_type": "stream",
     "text": [
      "Epoch: 09 | Epoch Time: 0m 0s\n",
      "\tTrain Loss: 0.002 | Train Acc: 0.05%\n",
      "\t Val. Loss: 1.826 |  Val. Acc: 51.42%\n"
     ]
    },
    {
     "name": "stderr",
     "output_type": "stream",
     "text": [
      "\n",
      "Training:   0%|                                                                                | 0/844 [00:00<?, ?it/s]\u001b[A\n",
      "                                                                                                                       \u001b[A\n",
      "Evaluating:   0%|                                                                               | 0/94 [00:00<?, ?it/s]\u001b[A\n",
      "Evaluating:  24%|████████████████▉                                                    | 23/94 [00:00<00:00, 226.23it/s]\u001b[A\n",
      "Evaluating:  49%|█████████████████████████████████▊                                   | 46/94 [00:00<00:00, 222.40it/s]\u001b[A\n",
      "Evaluating:  73%|██████████████████████████████████████████████████▋                  | 69/94 [00:00<00:00, 221.42it/s]\u001b[A\n",
      "Evaluating:  98%|███████████████████████████████████████████████████████████████████▌ | 92/94 [00:00<00:00, 219.51it/s]\u001b[A\n",
      " 50%|█████████████████████████████████████████                                         | 10/20 [00:04<00:04,  2.16it/s]\u001b[A"
     ]
    },
    {
     "name": "stdout",
     "output_type": "stream",
     "text": [
      "Epoch: 10 | Epoch Time: 0m 0s\n",
      "\tTrain Loss: 0.002 | Train Acc: 0.05%\n",
      "\t Val. Loss: 1.763 |  Val. Acc: 56.42%\n"
     ]
    },
    {
     "name": "stderr",
     "output_type": "stream",
     "text": [
      "\n",
      "Training:   0%|                                                                                | 0/844 [00:00<?, ?it/s]\u001b[A\n",
      "                                                                                                                       \u001b[A\n",
      "Evaluating:   0%|                                                                               | 0/94 [00:00<?, ?it/s]\u001b[A\n",
      "Evaluating:  22%|███████████████▍                                                     | 21/94 [00:00<00:00, 205.54it/s]\u001b[A\n",
      "Evaluating:  45%|██████████████████████████████▊                                      | 42/94 [00:00<00:00, 184.87it/s]\u001b[A\n",
      "Evaluating:  67%|██████████████████████████████████████████████▏                      | 63/94 [00:00<00:00, 193.58it/s]\u001b[A\n",
      "Evaluating:  89%|█████████████████████████████████████████████████████████████▋       | 84/94 [00:00<00:00, 197.77it/s]\u001b[A\n",
      " 55%|█████████████████████████████████████████████                                     | 11/20 [00:05<00:04,  2.10it/s]\u001b[A"
     ]
    },
    {
     "name": "stdout",
     "output_type": "stream",
     "text": [
      "Epoch: 11 | Epoch Time: 0m 0s\n",
      "\tTrain Loss: 0.002 | Train Acc: 0.05%\n",
      "\t Val. Loss: 1.692 |  Val. Acc: 61.14%\n"
     ]
    },
    {
     "name": "stderr",
     "output_type": "stream",
     "text": [
      "\n",
      "Training:   0%|                                                                                | 0/844 [00:00<?, ?it/s]\u001b[A\n",
      "                                                                                                                       \u001b[A\n",
      "Evaluating:   0%|                                                                               | 0/94 [00:00<?, ?it/s]\u001b[A\n",
      "Evaluating:  24%|████████████████▉                                                    | 23/94 [00:00<00:00, 221.89it/s]\u001b[A\n",
      "Evaluating:  49%|█████████████████████████████████▊                                   | 46/94 [00:00<00:00, 214.13it/s]\u001b[A\n",
      "Evaluating:  72%|█████████████████████████████████████████████████▉                   | 68/94 [00:00<00:00, 211.46it/s]\u001b[A\n",
      "Evaluating:  96%|██████████████████████████████████████████████████████████████████   | 90/94 [00:00<00:00, 210.91it/s]\u001b[A\n",
      " 60%|█████████████████████████████████████████████████▏                                | 12/20 [00:05<00:03,  2.11it/s]\u001b[A"
     ]
    },
    {
     "name": "stdout",
     "output_type": "stream",
     "text": [
      "Epoch: 12 | Epoch Time: 0m 0s\n",
      "\tTrain Loss: 0.002 | Train Acc: 0.05%\n",
      "\t Val. Loss: 1.622 |  Val. Acc: 62.90%\n"
     ]
    },
    {
     "name": "stderr",
     "output_type": "stream",
     "text": [
      "\n",
      "Training:   0%|                                                                                | 0/844 [00:00<?, ?it/s]\u001b[A\n",
      "                                                                                                                       \u001b[A\n",
      "Evaluating:   0%|                                                                               | 0/94 [00:00<?, ?it/s]\u001b[A\n",
      "Evaluating:  24%|████████████████▉                                                    | 23/94 [00:00<00:00, 221.87it/s]\u001b[A\n",
      "Evaluating:  49%|█████████████████████████████████▊                                   | 46/94 [00:00<00:00, 220.64it/s]\u001b[A\n",
      "Evaluating:  73%|██████████████████████████████████████████████████▋                  | 69/94 [00:00<00:00, 221.41it/s]\u001b[A\n",
      "Evaluating:  98%|███████████████████████████████████████████████████████████████████▌ | 92/94 [00:00<00:00, 221.60it/s]\u001b[A\n",
      " 65%|█████████████████████████████████████████████████████▎                            | 13/20 [00:06<00:03,  2.14it/s]\u001b[A"
     ]
    },
    {
     "name": "stdout",
     "output_type": "stream",
     "text": [
      "Epoch: 13 | Epoch Time: 0m 0s\n",
      "\tTrain Loss: 0.002 | Train Acc: 0.06%\n",
      "\t Val. Loss: 1.559 |  Val. Acc: 61.38%\n"
     ]
    },
    {
     "name": "stderr",
     "output_type": "stream",
     "text": [
      "\n",
      "Training:   0%|                                                                                | 0/844 [00:00<?, ?it/s]\u001b[A\n",
      "                                                                                                                       \u001b[A\n",
      "Evaluating:   0%|                                                                               | 0/94 [00:00<?, ?it/s]\u001b[A\n",
      "Evaluating:  24%|████████████████▉                                                    | 23/94 [00:00<00:00, 226.81it/s]\u001b[A\n",
      "Evaluating:  49%|█████████████████████████████████▊                                   | 46/94 [00:00<00:00, 226.18it/s]\u001b[A\n",
      "Evaluating:  73%|██████████████████████████████████████████████████▋                  | 69/94 [00:00<00:00, 224.20it/s]\u001b[A\n",
      "Evaluating:  98%|███████████████████████████████████████████████████████████████████▌ | 92/94 [00:00<00:00, 223.71it/s]\u001b[A\n",
      " 70%|█████████████████████████████████████████████████████████▍                        | 14/20 [00:06<00:02,  2.16it/s]\u001b[A"
     ]
    },
    {
     "name": "stdout",
     "output_type": "stream",
     "text": [
      "Epoch: 14 | Epoch Time: 0m 0s\n",
      "\tTrain Loss: 0.002 | Train Acc: 0.06%\n",
      "\t Val. Loss: 1.492 |  Val. Acc: 60.70%\n"
     ]
    },
    {
     "name": "stderr",
     "output_type": "stream",
     "text": [
      "\n",
      "Training:   0%|                                                                                | 0/844 [00:00<?, ?it/s]\u001b[A\n",
      "                                                                                                                       \u001b[A\n",
      "Evaluating:   0%|                                                                               | 0/94 [00:00<?, ?it/s]\u001b[A\n",
      "Evaluating:  23%|████████████████▏                                                    | 22/94 [00:00<00:00, 218.55it/s]\u001b[A\n",
      "Evaluating:  47%|████████████████████████████████▎                                    | 44/94 [00:00<00:00, 217.87it/s]\u001b[A\n",
      "Evaluating:  71%|█████████████████████████████████████████████████▏                   | 67/94 [00:00<00:00, 219.51it/s]\u001b[A\n",
      "Evaluating:  96%|██████████████████████████████████████████████████████████████████   | 90/94 [00:00<00:00, 221.14it/s]\u001b[A\n",
      " 75%|█████████████████████████████████████████████████████████████▌                    | 15/20 [00:07<00:02,  2.17it/s]\u001b[A"
     ]
    },
    {
     "name": "stdout",
     "output_type": "stream",
     "text": [
      "Epoch: 15 | Epoch Time: 0m 0s\n",
      "\tTrain Loss: 0.002 | Train Acc: 0.05%\n",
      "\t Val. Loss: 1.419 |  Val. Acc: 62.60%\n"
     ]
    },
    {
     "name": "stderr",
     "output_type": "stream",
     "text": [
      "\n",
      "Training:   0%|                                                                                | 0/844 [00:00<?, ?it/s]\u001b[A\n",
      "                                                                                                                       \u001b[A\n",
      "Evaluating:   0%|                                                                               | 0/94 [00:00<?, ?it/s]\u001b[A\n",
      "Evaluating:  23%|████████████████▏                                                    | 22/94 [00:00<00:00, 216.40it/s]\u001b[A\n",
      "Evaluating:  47%|████████████████████████████████▎                                    | 44/94 [00:00<00:00, 198.03it/s]\u001b[A\n",
      "Evaluating:  71%|█████████████████████████████████████████████████▏                   | 67/94 [00:00<00:00, 208.62it/s]\u001b[A\n",
      "Evaluating:  95%|█████████████████████████████████████████████████████████████████▎   | 89/94 [00:00<00:00, 210.92it/s]\u001b[A\n",
      " 80%|█████████████████████████████████████████████████████████████████▌                | 16/20 [00:07<00:01,  2.14it/s]\u001b[A"
     ]
    },
    {
     "name": "stdout",
     "output_type": "stream",
     "text": [
      "Epoch: 16 | Epoch Time: 0m 0s\n",
      "\tTrain Loss: 0.002 | Train Acc: 0.06%\n",
      "\t Val. Loss: 1.350 |  Val. Acc: 65.83%\n"
     ]
    },
    {
     "name": "stderr",
     "output_type": "stream",
     "text": [
      "\n",
      "Training:   0%|                                                                                | 0/844 [00:00<?, ?it/s]\u001b[A\n",
      "                                                                                                                       \u001b[A\n",
      "Evaluating:   0%|                                                                               | 0/94 [00:00<?, ?it/s]\u001b[A\n",
      "Evaluating:  23%|████████████████▏                                                    | 22/94 [00:00<00:00, 211.56it/s]\u001b[A\n",
      "Evaluating:  47%|████████████████████████████████▎                                    | 44/94 [00:00<00:00, 215.20it/s]\u001b[A\n",
      "Evaluating:  70%|████████████████████████████████████████████████▍                    | 66/94 [00:00<00:00, 215.43it/s]\u001b[A\n",
      "Evaluating:  94%|████████████████████████████████████████████████████████████████▌    | 88/94 [00:00<00:00, 215.53it/s]\u001b[A\n",
      " 85%|█████████████████████████████████████████████████████████████████████▋            | 17/20 [00:07<00:01,  2.14it/s]\u001b[A"
     ]
    },
    {
     "name": "stdout",
     "output_type": "stream",
     "text": [
      "Epoch: 17 | Epoch Time: 0m 0s\n",
      "\tTrain Loss: 0.002 | Train Acc: 0.06%\n",
      "\t Val. Loss: 1.289 |  Val. Acc: 67.22%\n"
     ]
    },
    {
     "name": "stderr",
     "output_type": "stream",
     "text": [
      "\n",
      "Training:   0%|                                                                                | 0/844 [00:00<?, ?it/s]\u001b[A\n",
      "                                                                                                                       \u001b[A\n",
      "Evaluating:   0%|                                                                               | 0/94 [00:00<?, ?it/s]\u001b[A\n",
      "Evaluating:  23%|████████████████▏                                                    | 22/94 [00:00<00:00, 217.83it/s]\u001b[A\n",
      "Evaluating:  48%|█████████████████████████████████                                    | 45/94 [00:00<00:00, 218.60it/s]\u001b[A\n",
      "Evaluating:  71%|█████████████████████████████████████████████████▏                   | 67/94 [00:00<00:00, 217.82it/s]\u001b[A\n",
      "Evaluating:  95%|█████████████████████████████████████████████████████████████████▎   | 89/94 [00:00<00:00, 217.36it/s]\u001b[A\n",
      " 90%|█████████████████████████████████████████████████████████████████████████▊        | 18/20 [00:08<00:00,  2.15it/s]\u001b[A"
     ]
    },
    {
     "name": "stdout",
     "output_type": "stream",
     "text": [
      "Epoch: 18 | Epoch Time: 0m 0s\n",
      "\tTrain Loss: 0.002 | Train Acc: 0.07%\n",
      "\t Val. Loss: 1.237 |  Val. Acc: 66.15%\n"
     ]
    },
    {
     "name": "stderr",
     "output_type": "stream",
     "text": [
      "\n",
      "Training:   0%|                                                                                | 0/844 [00:00<?, ?it/s]\u001b[A\n",
      "                                                                                                                       \u001b[A\n",
      "Evaluating:   0%|                                                                               | 0/94 [00:00<?, ?it/s]\u001b[A\n",
      "Evaluating:  24%|████████████████▉                                                    | 23/94 [00:00<00:00, 221.18it/s]\u001b[A\n",
      "Evaluating:  49%|█████████████████████████████████▊                                   | 46/94 [00:00<00:00, 216.31it/s]\u001b[A\n",
      "Evaluating:  72%|█████████████████████████████████████████████████▉                   | 68/94 [00:00<00:00, 216.55it/s]\u001b[A\n",
      "Evaluating:  96%|██████████████████████████████████████████████████████████████████   | 90/94 [00:00<00:00, 215.41it/s]\u001b[A\n",
      " 95%|█████████████████████████████████████████████████████████████████████████████▉    | 19/20 [00:08<00:00,  2.15it/s]\u001b[A"
     ]
    },
    {
     "name": "stdout",
     "output_type": "stream",
     "text": [
      "Epoch: 19 | Epoch Time: 0m 0s\n",
      "\tTrain Loss: 0.002 | Train Acc: 0.06%\n",
      "\t Val. Loss: 1.184 |  Val. Acc: 66.77%\n"
     ]
    },
    {
     "name": "stderr",
     "output_type": "stream",
     "text": [
      "\n",
      "Training:   0%|                                                                                | 0/844 [00:00<?, ?it/s]\u001b[A\n",
      "                                                                                                                       \u001b[A\n",
      "Evaluating:   0%|                                                                               | 0/94 [00:00<?, ?it/s]\u001b[A\n",
      "Evaluating:  23%|████████████████▏                                                    | 22/94 [00:00<00:00, 218.92it/s]\u001b[A\n",
      "Evaluating:  47%|████████████████████████████████▎                                    | 44/94 [00:00<00:00, 214.55it/s]\u001b[A\n",
      "Evaluating:  70%|████████████████████████████████████████████████▍                    | 66/94 [00:00<00:00, 213.63it/s]\u001b[A\n",
      "Evaluating:  95%|█████████████████████████████████████████████████████████████████▎   | 89/94 [00:00<00:00, 216.23it/s]\u001b[A\n",
      "100%|██████████████████████████████████████████████████████████████████████████████████| 20/20 [00:09<00:00,  2.13it/s]\u001b[A"
     ]
    },
    {
     "name": "stdout",
     "output_type": "stream",
     "text": [
      "Epoch: 20 | Epoch Time: 0m 0s\n",
      "\tTrain Loss: 0.002 | Train Acc: 0.07%\n",
      "\t Val. Loss: 1.121 |  Val. Acc: 68.93%\n"
     ]
    },
    {
     "name": "stderr",
     "output_type": "stream",
     "text": [
      "\n"
     ]
    }
   ],
   "source": [
    "EPOCHS = 20\n",
    "best_valid_loss = float('inf')\n",
    "\n",
    "for epoch in trange(EPOCHS):\n",
    "    start_time = time.monotonic()\n",
    "    train_loss, train_acc = train(model, train_iterator, optimizer, criterion, device)\n",
    "    valid_loss, valid_acc = evaluate(model, valid_iterator, criterion, device)\n",
    "\n",
    "    if valid_loss < best_valid_loss:\n",
    "        best_valid_loss = valid_loss\n",
    "        torch.save(model.state_dict(), 'model.pt')\n",
    "    end_time = time.monotonic()\n",
    "    epoch_mins, epoch_secs = epoch_time(start_time, end_time)\n",
    "\n",
    "    print(f'Epoch: {epoch+1:02} | Epoch Time: {epoch_mins}m {epoch_secs}s')\n",
    "    print(f'\\tTrain Loss: {train_loss:.3f} | Train Acc: {train_acc*100:.2f}%')\n",
    "    print(f'\\t Val. Loss: {valid_loss:.3f} |  Val. Acc: {valid_acc*100:.2f}%')"
   ]
  }
 ],
 "metadata": {
  "kernelspec": {
   "display_name": "Python 3 (ipykernel)",
   "language": "python",
   "name": "python3"
  },
  "language_info": {
   "codemirror_mode": {
    "name": "ipython",
    "version": 3
   },
   "file_extension": ".py",
   "mimetype": "text/x-python",
   "name": "python",
   "nbconvert_exporter": "python",
   "pygments_lexer": "ipython3",
   "version": "3.10.12"
  }
 },
 "nbformat": 4,
 "nbformat_minor": 5
}
