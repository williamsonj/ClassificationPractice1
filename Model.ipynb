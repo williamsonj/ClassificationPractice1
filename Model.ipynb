{
 "cells": [
  {
   "cell_type": "code",
   "execution_count": 1,
   "id": "d9693827-8019-4c01-9f56-8aeae36b516c",
   "metadata": {},
   "outputs": [],
   "source": [
    "import torch\n",
    "import torchvision\n",
    "from torchvision import datasets\n",
    "import torchvision.transforms as transforms\n",
    "import matplotlib.pyplot as plt\n",
    "import numpy as np\n",
    "import torch.nn as nn\n",
    "import torch.nn.functional as F\n",
    "import torch.utils.data as data\n",
    "import copy\n",
    "\n",
    "\n",
    "import torch\n",
    "import torch.nn as nn\n",
    "import torch.nn.functional as F\n",
    "import torch.optim as optim\n",
    "import torch.utils.data as data\n",
    "\n",
    "import torchvision.transforms as transforms\n",
    "import torchvision.datasets as datasets\n",
    "\n",
    "import matplotlib.pyplot as plt\n",
    "import numpy as np\n",
    "\n",
    "import copy\n",
    "import random\n",
    "import time"
   ]
  },
  {
   "cell_type": "code",
   "execution_count": 2,
   "id": "168f16da-7cd2-4123-8dbe-f9d23c18b119",
   "metadata": {},
   "outputs": [],
   "source": [
    "transform = transforms.Compose([transforms.ToTensor()])\n",
    "train_dataset = datasets.MNIST(root = './data', train = True, download = True, transform = transform)\n",
    "test_dataset = datasets.MNIST(root = './data', train = False, download = False, transform = transform)"
   ]
  },
  {
   "cell_type": "code",
   "execution_count": 3,
   "id": "fda4ed88-8425-45a3-9229-9c5bb676e361",
   "metadata": {},
   "outputs": [],
   "source": [
    "batch_size = 4\n",
    "trainloader = torch.utils.data.DataLoader(train_dataset, batch_size=batch_size,\n",
    "                                          shuffle=True, num_workers=2)\n",
    "testloader = torch.utils.data.DataLoader(test_dataset, batch_size=batch_size,\n",
    "                                         shuffle=False, num_workers=2)\n",
    "classes = ('0', '1', '2', '3', '4', '5', '6', '7', '8', '9',)"
   ]
  },
  {
   "cell_type": "code",
   "execution_count": 4,
   "id": "e0f3aa5f-eb02-4c96-8e32-321059594018",
   "metadata": {},
   "outputs": [
    {
     "data": {
      "image/png": "[encoded data removed]",
      "text/plain": [
       "<Figure size 640x480 with 1 Axes>"
      ]
     },
     "metadata": {},
     "output_type": "display_data"
    },
    {
     "name": "stdout",
     "output_type": "stream",
     "text": [
      "8     3     2     3    \n"
     ]
    }
   ],
   "source": [
    "def imshow(img):\n",
    "    npimg = img.numpy()\n",
    "    plt.imshow(np.transpose(npimg, (1,2,0)))\n",
    "    plt.show()\n",
    "\n",
    "dataiter = iter(trainloader)\n",
    "images, labels = next (dataiter)\n",
    "\n",
    "imshow(torchvision.utils.make_grid(images))\n",
    "print(' '.join(f'{classes[labels[j]]:5s}' for j in range(batch_size)))\n"
   ]
  },
  {
   "cell_type": "code",
   "execution_count": 5,
   "id": "96a83f68-b6d5-428d-8652-b24b1ae4de50",
   "metadata": {},
   "outputs": [
    {
     "name": "stdout",
     "output_type": "stream",
     "text": [
      "Mean: 0.13066047430038452\n",
      "STD: 0.30810779333114624\n"
     ]
    }
   ],
   "source": [
    "mean = train_dataset.data.float().mean() / 255\n",
    "std = train_dataset.data.float().std() / 255\n",
    "print(f'Mean: {mean}')\n",
    "print(f'STD: {std}')"
   ]
  },
  {
   "cell_type": "code",
   "execution_count": 6,
   "id": "41f246b8-3569-4af9-ac8c-14bbf207d092",
   "metadata": {},
   "outputs": [],
   "source": [
    "transform_train = transforms.Compose([\n",
    "    transforms.ToTensor(),\n",
    "    transforms.RandomRotation(5, fill=(0,)),\n",
    "    transforms.RandomCrop(28, padding =2),\n",
    "    transforms.Normalize(mean=[mean], std=[std])\n",
    "])\n",
    "\n",
    "transform_test = transforms.Compose([\n",
    "    transforms.ToTensor(),\n",
    "    transforms.Normalize(mean=[mean], std=[std])\n",
    "])"
   ]
  },
  {
   "cell_type": "code",
   "execution_count": 7,
   "id": "a31d294e-5e67-424b-b9f5-0da1643cb4e4",
   "metadata": {},
   "outputs": [],
   "source": [
    "train_dataset = datasets.MNIST(root = './data', train = True, download = True, transform = transform_train)\n",
    "test_dataset = datasets.MNIST(root = './data', train = False, download = False, transform = transform_test)"
   ]
  },
  {
   "cell_type": "code",
   "execution_count": 8,
   "id": "4e586d46-6ad3-4d53-9960-b44609ea37a3",
   "metadata": {},
   "outputs": [
    {
     "name": "stdout",
     "output_type": "stream",
     "text": [
      "Number of training examples: 60000\n",
      "Number of testing examples: 10000\n"
     ]
    }
   ],
   "source": [
    "print(f'Number of training examples: {len(train_dataset)}')\n",
    "print(f'Number of testing examples: {len(test_dataset)}')"
   ]
  },
  {
   "cell_type": "code",
   "execution_count": 9,
   "id": "88a8a4da-ad6e-4d21-9c02-0c607e5ec240",
   "metadata": {},
   "outputs": [],
   "source": [
    "Validation = 0.9\n",
    "train_examples = int(len(train_dataset) * Validation)\n",
    "validation_examples = len(train_dataset) - train_examples"
   ]
  },
  {
   "cell_type": "code",
   "execution_count": 10,
   "id": "54aa5bd1-2ff8-4f52-b22b-21923db23d83",
   "metadata": {},
   "outputs": [],
   "source": [
    "train_dataset, validation_dataset = data.random_split(train_dataset, [train_examples, validation_examples])"
   ]
  },
  {
   "cell_type": "code",
   "execution_count": 11,
   "id": "a6c55ad6-82cd-4df2-a972-f5c1e4e03ebc",
   "metadata": {},
   "outputs": [
    {
     "name": "stdout",
     "output_type": "stream",
     "text": [
      "Number of training examples: 54000\n",
      "Number of validation examples: 6000\n",
      "Number of testing examples: 10000\n"
     ]
    }
   ],
   "source": [
    "print(f'Number of training examples: {len(train_dataset)}')\n",
    "print(f'Number of validation examples: {len(validation_dataset)}')\n",
    "print(f'Number of testing examples: {len(test_dataset)}')"
   ]
  },
  {
   "cell_type": "code",
   "execution_count": 12,
   "id": "f6a72189-131e-453f-830a-bc71fcadbd08",
   "metadata": {},
   "outputs": [],
   "source": [
    "validation_dataset = copy.deepcopy(validation_dataset)\n",
    "validation_dataset.dataset.transform = transform_test"
   ]
  },
  {
   "cell_type": "code",
   "execution_count": 13,
   "id": "672472fd-d6ca-451c-abc7-a96d2acba0fb",
   "metadata": {},
   "outputs": [],
   "source": [
    "BATCH_SIZE = 64\n",
    "\n",
    "train_iterator = data.DataLoader(train_dataset,\n",
    "                                 shuffle=True,\n",
    "                                 batch_size=BATCH_SIZE)\n",
    "\n",
    "valid_iterator = data.DataLoader(validation_dataset,\n",
    "                                 batch_size=BATCH_SIZE)\n",
    "\n",
    "test_iterator = data.DataLoader(test_dataset,\n",
    "                                batch_size=BATCH_SIZE)"
   ]
  },
  {
   "cell_type": "code",
   "execution_count": null,
   "id": "d8f666e8-2f71-444f-9614-91e0844aee1a",
   "metadata": {},
   "outputs": [],
   "source": []
  }
 ],
 "metadata": {
  "kernelspec": {
   "display_name": "Python 3 (ipykernel)",
   "language": "python",
   "name": "python3"
  },
  "language_info": {
   "codemirror_mode": {
    "name": "ipython",
    "version": 3
   },
   "file_extension": ".py",
   "mimetype": "text/x-python",
   "name": "python",
   "nbconvert_exporter": "python",
   "pygments_lexer": "ipython3",
   "version": "3.10.12"
  }
 },
 "nbformat": 4,
 "nbformat_minor": 5
}
